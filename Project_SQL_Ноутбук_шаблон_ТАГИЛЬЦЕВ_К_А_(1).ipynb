{
  "cells": [
    {
      "cell_type": "markdown",
      "id": "42289889-bd57-434e-9637-d3e354756316",
      "metadata": {
        "id": "42289889-bd57-434e-9637-d3e354756316"
      },
      "source": [
        "<center> <img src = https://raw.githubusercontent.com/AndreyRysistov/DatasetsForPandas/main/hh%20label.jpg alt=\"drawing\" style=\"width:400px;\">"
      ]
    },
    {
      "cell_type": "markdown",
      "id": "829cb75b-f14e-4ba8-9195-7ba929a7d656",
      "metadata": {
        "id": "829cb75b-f14e-4ba8-9195-7ba929a7d656",
        "tags": []
      },
      "source": [
        "# Проект «Анализ вакансий из HeadHunter»\n",
        "   "
      ]
    },
    {
      "cell_type": "code",
      "execution_count": 2,
      "id": "dccfde33-2452-43fb-a8a5-5c6ebc02a71d",
      "metadata": {
        "id": "dccfde33-2452-43fb-a8a5-5c6ebc02a71d"
      },
      "outputs": [],
      "source": [
        "import pandas as pd\n",
        "import psycopg2"
      ]
    },
    {
      "cell_type": "code",
      "execution_count": 3,
      "id": "oVKH4ehvf8Ay",
      "metadata": {
        "id": "oVKH4ehvf8Ay"
      },
      "outputs": [],
      "source": [
        "# вставьте сюда параметры подключения из юнита 1. Работа с базой данных из Python\n",
        "DBNAME = 'project_sql'\n",
        "USER = 'skillfactory'\n",
        "PASSWORD = 'cCkxxLVrDE8EbvjueeMedPKt'\n",
        "HOST = '84.201.134.129'\n",
        "PORT = 5432"
      ]
    },
    {
      "cell_type": "code",
      "execution_count": 4,
      "id": "G4X_q8KBf7SF",
      "metadata": {
        "id": "G4X_q8KBf7SF"
      },
      "outputs": [],
      "source": [
        "connection = psycopg2.connect(\n",
        "    dbname=DBNAME,\n",
        "    user=USER,\n",
        "    host=HOST,\n",
        "    password=PASSWORD,\n",
        "    port=PORT\n",
        ")"
      ]
    },
    {
      "cell_type": "markdown",
      "id": "0dc6476b-7a00-44f1-ac93-6e3baed33a29",
      "metadata": {
        "id": "0dc6476b-7a00-44f1-ac93-6e3baed33a29"
      },
      "source": [
        "## 3. Предварительный анализ данных"
      ]
    },
    {
      "cell_type": "markdown",
      "id": "889782b6-8d1c-410e-8920-e57f27917c64",
      "metadata": {
        "id": "889782b6-8d1c-410e-8920-e57f27917c64"
      },
      "source": [
        "1. Напишите запрос, который посчитает количество вакансий в базе (вакансии находятся в таблице `vacancies`)."
      ]
    },
    {
      "cell_type": "code",
      "execution_count": 5,
      "id": "bc39e68e-ed02-4ee2-9235-7258a2f867a8",
      "metadata": {
        "id": "bc39e68e-ed02-4ee2-9235-7258a2f867a8"
      },
      "outputs": [],
      "source": [
        "# текст запроса\n",
        "query_3_1 = f'''\n",
        "    SELECT * FROM vacancies\n",
        "'''"
      ]
    },
    {
      "cell_type": "code",
      "execution_count": 6,
      "id": "7mAwtsk4hEHY",
      "metadata": {
        "id": "7mAwtsk4hEHY",
        "colab": {
          "base_uri": "https://localhost:8080/"
        },
        "outputId": "38b76158-d969-4eff-ff74-9446c5228f4a"
      },
      "outputs": [
        {
          "output_type": "stream",
          "name": "stderr",
          "text": [
            "<ipython-input-6-13adb46b47e0>:2: UserWarning: pandas only supports SQLAlchemy connectable (engine/connection) or database string URI or sqlite3 DBAPI2 connection. Other DBAPI2 objects are not tested. Please consider using SQLAlchemy.\n",
            "  df = pd.read_sql_query(query_3_1, connection)\n"
          ]
        },
        {
          "output_type": "stream",
          "name": "stdout",
          "text": [
            "Количество вакансий: 49197\n"
          ]
        }
      ],
      "source": [
        "# результат запроса\n",
        "df = pd.read_sql_query(query_3_1, connection)\n",
        "vacancy_count = len(df)\n",
        "print(f\"Количество вакансий: {vacancy_count}\")"
      ]
    },
    {
      "cell_type": "markdown",
      "id": "b583485d-1f9e-494e-ada4-80ffff7c53d6",
      "metadata": {
        "id": "b583485d-1f9e-494e-ada4-80ffff7c53d6"
      },
      "source": [
        "2. Напишите запрос, который посчитает количество работодателей (таблица `employers`)."
      ]
    },
    {
      "cell_type": "code",
      "execution_count": 7,
      "id": "5408c52c-3407-4a63-b25b-1aafa2322d28",
      "metadata": {
        "id": "5408c52c-3407-4a63-b25b-1aafa2322d28"
      },
      "outputs": [],
      "source": [
        "# текст запроса\n",
        "query_3_2 = f'''\n",
        "    SELECT * FROM employers\n",
        "'''"
      ]
    },
    {
      "cell_type": "code",
      "execution_count": 8,
      "id": "jVL4eshKhdqc",
      "metadata": {
        "id": "jVL4eshKhdqc",
        "colab": {
          "base_uri": "https://localhost:8080/"
        },
        "outputId": "87ce9b5d-f96b-4d30-dc6e-c400a690ee1b"
      },
      "outputs": [
        {
          "output_type": "stream",
          "name": "stderr",
          "text": [
            "<ipython-input-8-1e7ae8aaa6dc>:2: UserWarning: pandas only supports SQLAlchemy connectable (engine/connection) or database string URI or sqlite3 DBAPI2 connection. Other DBAPI2 objects are not tested. Please consider using SQLAlchemy.\n",
            "  df = pd.read_sql_query(query_3_2, connection)\n"
          ]
        },
        {
          "output_type": "stream",
          "name": "stdout",
          "text": [
            "Количество работодателей: 23501\n"
          ]
        }
      ],
      "source": [
        "# результат запроса\n",
        "df = pd.read_sql_query(query_3_2, connection)\n",
        "employer_count = len(df)\n",
        "print(f\"Количество работодателей: {employer_count}\")"
      ]
    },
    {
      "cell_type": "markdown",
      "id": "a2bfff1f-c975-4bf6-84be-2185d79dcb76",
      "metadata": {
        "id": "a2bfff1f-c975-4bf6-84be-2185d79dcb76"
      },
      "source": [
        "3. Посчитайте с помощью запроса количество регионов (таблица `areas`)."
      ]
    },
    {
      "cell_type": "code",
      "execution_count": 9,
      "id": "1m8QJwBYhey6",
      "metadata": {
        "id": "1m8QJwBYhey6"
      },
      "outputs": [],
      "source": [
        "# текст запроса\n",
        "query_3_3 = f'''\n",
        "    SELECT * FROM public.areas\n",
        "'''"
      ]
    },
    {
      "cell_type": "code",
      "execution_count": 10,
      "id": "EZsn9tlfhe7f",
      "metadata": {
        "id": "EZsn9tlfhe7f",
        "colab": {
          "base_uri": "https://localhost:8080/"
        },
        "outputId": "26f5650f-81c0-4eaa-a330-fb9fdd50611f"
      },
      "outputs": [
        {
          "output_type": "stream",
          "name": "stdout",
          "text": [
            "Количество регионов: 1362\n"
          ]
        },
        {
          "output_type": "stream",
          "name": "stderr",
          "text": [
            "<ipython-input-10-607c726f94d9>:2: UserWarning: pandas only supports SQLAlchemy connectable (engine/connection) or database string URI or sqlite3 DBAPI2 connection. Other DBAPI2 objects are not tested. Please consider using SQLAlchemy.\n",
            "  df = pd.read_sql_query(query_3_3, connection)\n"
          ]
        }
      ],
      "source": [
        "# результат запроса\n",
        "df = pd.read_sql_query(query_3_3, connection)\n",
        "area_count = len(df)\n",
        "print(f\"Количество регионов: {area_count}\")"
      ]
    },
    {
      "cell_type": "markdown",
      "id": "41bb59f3-53cc-4a67-a5bc-bedf573955e4",
      "metadata": {
        "id": "41bb59f3-53cc-4a67-a5bc-bedf573955e4"
      },
      "source": [
        "4. Посчитайте с помощью запроса количество сфер деятельности в базе (таблица `industries`)."
      ]
    },
    {
      "cell_type": "code",
      "execution_count": 11,
      "id": "d286cf4c-707b-4cd2-9190-7ab3587d04a1",
      "metadata": {
        "id": "d286cf4c-707b-4cd2-9190-7ab3587d04a1"
      },
      "outputs": [],
      "source": [
        "# текст запроса\n",
        "query_3_4 = f'''\n",
        "    SELECT * FROM public.industries\n",
        "'''"
      ]
    },
    {
      "cell_type": "code",
      "execution_count": 12,
      "id": "JYAaoZ4qhfzW",
      "metadata": {
        "id": "JYAaoZ4qhfzW",
        "colab": {
          "base_uri": "https://localhost:8080/"
        },
        "outputId": "e1e1cd17-2133-416e-b3d8-a7264bb9b442"
      },
      "outputs": [
        {
          "output_type": "stream",
          "name": "stdout",
          "text": [
            "Количество сфер деятельности: 294\n"
          ]
        },
        {
          "output_type": "stream",
          "name": "stderr",
          "text": [
            "<ipython-input-12-d484def86f9b>:2: UserWarning: pandas only supports SQLAlchemy connectable (engine/connection) or database string URI or sqlite3 DBAPI2 connection. Other DBAPI2 objects are not tested. Please consider using SQLAlchemy.\n",
            "  df = pd.read_sql_query(query_3_4, connection)\n"
          ]
        }
      ],
      "source": [
        "# результат запроса\n",
        "df = pd.read_sql_query(query_3_4, connection)\n",
        "industry_count = len(df)\n",
        "print(f\"Количество сфер деятельности: {industry_count}\")"
      ]
    },
    {
      "cell_type": "markdown",
      "id": "ed4de9ce",
      "metadata": {
        "id": "ed4de9ce"
      },
      "source": [
        "***"
      ]
    },
    {
      "cell_type": "code",
      "execution_count": 13,
      "id": "be4e9bd3-a4db-4a20-82fb-6b02fc2957e0",
      "metadata": {
        "id": "be4e9bd3-a4db-4a20-82fb-6b02fc2957e0",
        "colab": {
          "base_uri": "https://localhost:8080/",
          "height": 54
        },
        "outputId": "fa744306-6a8c-461b-937c-72e706469a03"
      },
      "outputs": [
        {
          "output_type": "execute_result",
          "data": {
            "text/plain": [
              "'\\n- В базе данных содержится 49197 вакансий. Это достаточно большое количество, что позволяет проводить разнообразные анализы и исследования.\\n- В базе данных зарегистрировано 23501 работодателей. Это показывает, что база данных охватывает значительное количество компаний, что также способствует разнообразию вакансий.\\n- В базе данных представлено 1362 региона. Это означает, что вакансии распределены по различным географическим областям, что позволяет проводить анализ с учетом региональных особенностей.\\n'"
            ],
            "application/vnd.google.colaboratory.intrinsic+json": {
              "type": "string"
            }
          },
          "metadata": {},
          "execution_count": 13
        }
      ],
      "source": [
        "# выводы по предварительному анализу данных\n",
        "\"\"\"\n",
        "- В базе данных содержится 49197 вакансий. Это достаточно большое количество, что позволяет проводить разнообразные анализы и исследования.\n",
        "- В базе данных зарегистрировано 23501 работодателей. Это показывает, что база данных охватывает значительное количество компаний, что также способствует разнообразию вакансий.\n",
        "- В базе данных представлено 1362 региона. Это означает, что вакансии распределены по различным географическим областям, что позволяет проводить анализ с учетом региональных особенностей.\n",
        "\"\"\""
      ]
    },
    {
      "cell_type": "markdown",
      "id": "8d62a9f3-f64e-4fe7-bdac-c4dffa16155e",
      "metadata": {
        "id": "8d62a9f3-f64e-4fe7-bdac-c4dffa16155e"
      },
      "source": [
        "## 4. Детальный анализ вакансий"
      ]
    },
    {
      "cell_type": "markdown",
      "id": "93053d3d-b284-481a-9cf7-012d7014c0e0",
      "metadata": {
        "id": "93053d3d-b284-481a-9cf7-012d7014c0e0"
      },
      "source": [
        "1. Напишите запрос, который позволит узнать, сколько (`cnt`) вакансий в каждом регионе (`area`).\n",
        "Отсортируйте по количеству вакансий в порядке убывания."
      ]
    },
    {
      "cell_type": "code",
      "execution_count": 14,
      "id": "3f069da6-fdc9-4ae7-b514-fafe2675efd3",
      "metadata": {
        "id": "3f069da6-fdc9-4ae7-b514-fafe2675efd3"
      },
      "outputs": [],
      "source": [
        "# текст запроса\n",
        "query_4_1 = f'''\n",
        "    SELECT a.name AS area, COUNT(*) AS cnt\n",
        "    FROM public.vacancies v\n",
        "    JOIN public.areas a ON v.area_id = a.id\n",
        "    GROUP BY a.name\n",
        "    ORDER BY cnt DESC\n",
        "'''"
      ]
    },
    {
      "cell_type": "code",
      "execution_count": 15,
      "id": "P7QL86hrjhRJ",
      "metadata": {
        "id": "P7QL86hrjhRJ",
        "colab": {
          "base_uri": "https://localhost:8080/"
        },
        "outputId": "c9324c93-3587-4251-be03-5d8d2d200f77"
      },
      "outputs": [
        {
          "output_type": "stream",
          "name": "stderr",
          "text": [
            "<ipython-input-15-c2239ac2e8e7>:2: UserWarning: pandas only supports SQLAlchemy connectable (engine/connection) or database string URI or sqlite3 DBAPI2 connection. Other DBAPI2 objects are not tested. Please consider using SQLAlchemy.\n",
            "  df = pd.read_sql_query(query_4_1, connection)\n"
          ]
        },
        {
          "output_type": "stream",
          "name": "stdout",
          "text": [
            "Количество вакансий в каждом регионе:\n",
            "                area   cnt\n",
            "0             Москва  5333\n",
            "1    Санкт-Петербург  2851\n",
            "2              Минск  2112\n",
            "3        Новосибирск  2006\n",
            "4             Алматы  1892\n",
            "..               ...   ...\n",
            "764       Тарко-Сале     1\n",
            "765    Новоаннинский     1\n",
            "766            Бирск     1\n",
            "767           Сасово     1\n",
            "768             Анна     1\n",
            "\n",
            "[769 rows x 2 columns]\n"
          ]
        }
      ],
      "source": [
        "# результат запроса\n",
        "df = pd.read_sql_query(query_4_1, connection)\n",
        "print(\"Количество вакансий в каждом регионе:\")\n",
        "print(df)"
      ]
    },
    {
      "cell_type": "markdown",
      "id": "4266f0b6-1646-492a-88b4-2f6a46502135",
      "metadata": {
        "id": "4266f0b6-1646-492a-88b4-2f6a46502135"
      },
      "source": [
        "2. Напишите запрос, чтобы определить у какого количества вакансий заполнено хотя бы одно из двух полей с зарплатой."
      ]
    },
    {
      "cell_type": "code",
      "execution_count": 16,
      "id": "0c44b350-72eb-4d65-8b54-a1fc449ba9fd",
      "metadata": {
        "id": "0c44b350-72eb-4d65-8b54-a1fc449ba9fd"
      },
      "outputs": [],
      "source": [
        "# текст запроса\n",
        "query_4_2 = f'''\n",
        "    SELECT COUNT(*) AS cnt\n",
        "    FROM public.vacancies\n",
        "    WHERE salary_from IS NOT NULL OR salary_to IS NOT NULL\n",
        "    '''"
      ]
    },
    {
      "cell_type": "code",
      "execution_count": 17,
      "id": "rhvwaMDkoWTi",
      "metadata": {
        "id": "rhvwaMDkoWTi",
        "colab": {
          "base_uri": "https://localhost:8080/"
        },
        "outputId": "333b4e42-08c3-4522-846e-cd3653000996"
      },
      "outputs": [
        {
          "output_type": "stream",
          "name": "stdout",
          "text": [
            "Количество вакансий с заполненным полем зарплаты:\n",
            "     cnt\n",
            "0  24073\n"
          ]
        },
        {
          "output_type": "stream",
          "name": "stderr",
          "text": [
            "<ipython-input-17-02afefe2e257>:2: UserWarning: pandas only supports SQLAlchemy connectable (engine/connection) or database string URI or sqlite3 DBAPI2 connection. Other DBAPI2 objects are not tested. Please consider using SQLAlchemy.\n",
            "  df = pd.read_sql_query(query_4_2, connection)\n"
          ]
        }
      ],
      "source": [
        "# результат запроса\n",
        "df = pd.read_sql_query(query_4_2, connection)\n",
        "print(\"Количество вакансий с заполненным полем зарплаты:\")\n",
        "print(df)"
      ]
    },
    {
      "cell_type": "markdown",
      "id": "635c4d5d-f323-4c66-b428-50a088120aa0",
      "metadata": {
        "id": "635c4d5d-f323-4c66-b428-50a088120aa0"
      },
      "source": [
        "3. Найдите средние значения для нижней и верхней границы зарплатной вилки. Округлите значения до **целого числа**."
      ]
    },
    {
      "cell_type": "code",
      "execution_count": 18,
      "id": "603cdbe4-0ec3-4106-8eaf-c73fcdd29165",
      "metadata": {
        "id": "603cdbe4-0ec3-4106-8eaf-c73fcdd29165"
      },
      "outputs": [],
      "source": [
        "# текст запроса\n",
        "query_4_3 = f'''\n",
        "    SELECT\n",
        "        ROUND(AVG(salary_from)) AS avg_salary_from,\n",
        "        ROUND(AVG(salary_to)) AS avg_salary_to\n",
        "    FROM public.vacancies\n",
        "'''"
      ]
    },
    {
      "cell_type": "code",
      "execution_count": 19,
      "id": "pswpAb66ovZZ",
      "metadata": {
        "id": "pswpAb66ovZZ",
        "colab": {
          "base_uri": "https://localhost:8080/"
        },
        "outputId": "24c088b5-54cc-4918-db16-fdfd3e08d392"
      },
      "outputs": [
        {
          "output_type": "stream",
          "name": "stdout",
          "text": [
            "Средние значения для нижней и верхней границы зарплатной вилки:\n",
            "   avg_salary_from  avg_salary_to\n",
            "0          71065.0       110537.0\n"
          ]
        },
        {
          "output_type": "stream",
          "name": "stderr",
          "text": [
            "<ipython-input-19-56216f0bf36d>:2: UserWarning: pandas only supports SQLAlchemy connectable (engine/connection) or database string URI or sqlite3 DBAPI2 connection. Other DBAPI2 objects are not tested. Please consider using SQLAlchemy.\n",
            "  df = pd.read_sql_query(query_4_3, connection)\n"
          ]
        }
      ],
      "source": [
        "# результат запроса\n",
        "df = pd.read_sql_query(query_4_3, connection)\n",
        "print(\"Средние значения для нижней и верхней границы зарплатной вилки:\")\n",
        "print(df)"
      ]
    },
    {
      "cell_type": "markdown",
      "id": "f3fdaec9-5fd3-4260-9cf5-1d7406b628a5",
      "metadata": {
        "id": "f3fdaec9-5fd3-4260-9cf5-1d7406b628a5"
      },
      "source": [
        "4. Напишите запрос, который выведет количество вакансий для каждого сочетания типа рабочего графика (`schedule`) и типа трудоустройства (`employment`), используемого в вакансиях. Результат отсортируйте по убыванию количества.\n"
      ]
    },
    {
      "cell_type": "code",
      "execution_count": 20,
      "id": "1ea710ec-871b-431e-9462-c7d0fd87011b",
      "metadata": {
        "id": "1ea710ec-871b-431e-9462-c7d0fd87011b"
      },
      "outputs": [],
      "source": [
        "# текст запроса\n",
        "query_4_4 = f'''\n",
        "    SELECT schedule, employment, COUNT(*) AS cnt\n",
        "    FROM public.vacancies\n",
        "    GROUP BY schedule, employment\n",
        "    ORDER BY cnt DESC\n",
        "    '''"
      ]
    },
    {
      "cell_type": "code",
      "execution_count": 21,
      "id": "lGUVqavdo4JQ",
      "metadata": {
        "id": "lGUVqavdo4JQ",
        "colab": {
          "base_uri": "https://localhost:8080/"
        },
        "outputId": "a240096a-015a-4cc9-862a-35c2305ae97a"
      },
      "outputs": [
        {
          "output_type": "stream",
          "name": "stderr",
          "text": [
            "<ipython-input-21-e62baf649b59>:2: UserWarning: pandas only supports SQLAlchemy connectable (engine/connection) or database string URI or sqlite3 DBAPI2 connection. Other DBAPI2 objects are not tested. Please consider using SQLAlchemy.\n",
            "  df = pd.read_sql_query(query_4_4, connection)\n"
          ]
        },
        {
          "output_type": "stream",
          "name": "stdout",
          "text": [
            "Количество вакансий для каждого сочетания типа рабочего графика и типа трудоустройства:\n",
            "            schedule           employment    cnt\n",
            "0        Полный день     Полная занятость  35367\n",
            "1   Удаленная работа     Полная занятость   7802\n",
            "2      Гибкий график     Полная занятость   1593\n",
            "3   Удаленная работа  Частичная занятость   1312\n",
            "4     Сменный график     Полная занятость    940\n",
            "5        Полный день           Стажировка    569\n",
            "6     Вахтовый метод     Полная занятость    367\n",
            "7        Полный день  Частичная занятость    347\n",
            "8      Гибкий график  Частичная занятость    312\n",
            "9        Полный день     Проектная работа    141\n",
            "10  Удаленная работа     Проектная работа    133\n",
            "11     Гибкий график           Стажировка    116\n",
            "12    Сменный график  Частичная занятость    101\n",
            "13  Удаленная работа           Стажировка     64\n",
            "14     Гибкий график     Проектная работа     18\n",
            "15    Сменный график           Стажировка     12\n",
            "16    Вахтовый метод     Проектная работа      2\n",
            "17    Сменный график     Проектная работа      1\n"
          ]
        }
      ],
      "source": [
        "# результат запроса\n",
        "df = pd.read_sql_query(query_4_4, connection)\n",
        "print(\"Количество вакансий для каждого сочетания типа рабочего графика и типа трудоустройства:\")\n",
        "print(df)"
      ]
    },
    {
      "cell_type": "markdown",
      "id": "0136ffee-0ead-4a6b-b608-61d1c753a438",
      "metadata": {
        "id": "0136ffee-0ead-4a6b-b608-61d1c753a438"
      },
      "source": [
        "5. Напишите запрос, выводящий значения поля «Требуемый опыт работы» (`experience`) в порядке возрастания количества вакансий, в которых указан данный вариант опыта."
      ]
    },
    {
      "cell_type": "code",
      "execution_count": 22,
      "id": "5b3a8e79-f7ab-4008-b767-12aea3a205ea",
      "metadata": {
        "id": "5b3a8e79-f7ab-4008-b767-12aea3a205ea"
      },
      "outputs": [],
      "source": [
        "# текст запроса\n",
        "query_4_5 = f'''\n",
        "    SELECT experience, COUNT(*) AS cnt\n",
        "    FROM public.vacancies\n",
        "    GROUP BY experience\n",
        "    ORDER BY cnt ASC\n",
        "'''"
      ]
    },
    {
      "cell_type": "code",
      "execution_count": 23,
      "id": "3Is64Y-hpDpq",
      "metadata": {
        "id": "3Is64Y-hpDpq",
        "colab": {
          "base_uri": "https://localhost:8080/"
        },
        "outputId": "d99ff9b9-d4da-4a07-f1bc-570fc38782bc"
      },
      "outputs": [
        {
          "output_type": "stream",
          "name": "stderr",
          "text": [
            "<ipython-input-23-4abe0d6b1f16>:2: UserWarning: pandas only supports SQLAlchemy connectable (engine/connection) or database string URI or sqlite3 DBAPI2 connection. Other DBAPI2 objects are not tested. Please consider using SQLAlchemy.\n",
            "  df = pd.read_sql_query(query_4_5, connection)\n"
          ]
        },
        {
          "output_type": "stream",
          "name": "stdout",
          "text": [
            "Значения поля «Требуемый опыт работы» в порядке возрастания количества вакансий:\n",
            "           experience    cnt\n",
            "0         Более 6 лет   1337\n",
            "1           Нет опыта   7197\n",
            "2       От 3 до 6 лет  14511\n",
            "3  От 1 года до 3 лет  26152\n"
          ]
        }
      ],
      "source": [
        "# результат запроса\n",
        "df = pd.read_sql_query(query_4_5, connection)\n",
        "print(\"Значения поля «Требуемый опыт работы» в порядке возрастания количества вакансий:\")\n",
        "print(df)"
      ]
    },
    {
      "cell_type": "markdown",
      "id": "oq2b7n1QpIka",
      "metadata": {
        "id": "oq2b7n1QpIka"
      },
      "source": [
        "***"
      ]
    },
    {
      "cell_type": "code",
      "execution_count": 24,
      "id": "e91f87ed-e25c-4f96-9f92-b642e8c0b4fa",
      "metadata": {
        "id": "e91f87ed-e25c-4f96-9f92-b642e8c0b4fa",
        "colab": {
          "base_uri": "https://localhost:8080/",
          "height": 72
        },
        "outputId": "4cb8a305-6e5d-4c8c-d18f-620d730919c7"
      },
      "outputs": [
        {
          "output_type": "execute_result",
          "data": {
            "text/plain": [
              "'\\n\\n- Распределение вакансий по регионам:\\n  - Большинство вакансий сосредоточено в крупных городах, таких как Москва, Санкт-Петербург, Минск, Новосибирск и Алматы. Это показывает, что в крупных городах больше возможностей для трудоустройства.\\n  - Небольшие города и регионы имеют значительно меньше вакансий, что может указывать на более ограниченные возможности для поиска работы.\\n\\n- Заполненность полей с зарплатой:\\n  - Более 49% вакансий (24073 из 49197) имеют заполненные поля с зарплатой. Это достаточно высокий процент, что позволяет проводить более точный анализ зарплатных ожиданий и предложений.\\n\\n- Средние значения зарплатных вилок:\\n  - Средняя нижняя граница зарплатной вилки составляет 71065 рублей, а средняя верхняя граница — 110537 рублей. Эти значения могут служить ориентиром для соискателей и работодателей при обсуждении зарплатных условий.\\n\\n- Распределение вакансий по типам рабочего графика и трудоустройства:\\n  - Большинство вакансий предполагают полный рабочий день и полную занятость. Однако значительное количество вакансий также предлагают удаленную работу и частичную занятость, что может быть привлекательным для соискателей, ищущих гибкие условия работы.\\n  - Вахтовый метод и сменный график также представлены, но в меньшем количестве.\\n\\n- Требуемый опыт работы:\\n  - Наибольшее количество вакансий требует от 1 года до 3 лет опыта работы. Это может указывать на высокий спрос на опытных специалистов.\\n  - Вакансии, требующие более 6 лет опыта, встречаются реже, что может быть связано с меньшим количеством таких специалистов на рынке труда.\\n  - Вакансии без требований к опыту работы также достаточно распространены, что может быть полезно для соискателей, начинающих свою карьеру.\\n'"
            ],
            "application/vnd.google.colaboratory.intrinsic+json": {
              "type": "string"
            }
          },
          "metadata": {},
          "execution_count": 24
        }
      ],
      "source": [
        "# выводы по детальному анализу вакансий\n",
        "\"\"\"\n",
        "\n",
        "- Распределение вакансий по регионам:\n",
        "  - Большинство вакансий сосредоточено в крупных городах, таких как Москва, Санкт-Петербург, Минск, Новосибирск и Алматы. Это показывает, что в крупных городах больше возможностей для трудоустройства.\n",
        "  - Небольшие города и регионы имеют значительно меньше вакансий, что может указывать на более ограниченные возможности для поиска работы.\n",
        "\n",
        "- Заполненность полей с зарплатой:\n",
        "  - Более 49% вакансий (24073 из 49197) имеют заполненные поля с зарплатой. Это достаточно высокий процент, что позволяет проводить более точный анализ зарплатных ожиданий и предложений.\n",
        "\n",
        "- Средние значения зарплатных вилок:\n",
        "  - Средняя нижняя граница зарплатной вилки составляет 71065 рублей, а средняя верхняя граница — 110537 рублей. Эти значения могут служить ориентиром для соискателей и работодателей при обсуждении зарплатных условий.\n",
        "\n",
        "- Распределение вакансий по типам рабочего графика и трудоустройства:\n",
        "  - Большинство вакансий предполагают полный рабочий день и полную занятость. Однако значительное количество вакансий также предлагают удаленную работу и частичную занятость, что может быть привлекательным для соискателей, ищущих гибкие условия работы.\n",
        "  - Вахтовый метод и сменный график также представлены, но в меньшем количестве.\n",
        "\n",
        "- Требуемый опыт работы:\n",
        "  - Наибольшее количество вакансий требует от 1 года до 3 лет опыта работы. Это может указывать на высокий спрос на опытных специалистов.\n",
        "  - Вакансии, требующие более 6 лет опыта, встречаются реже, что может быть связано с меньшим количеством таких специалистов на рынке труда.\n",
        "  - Вакансии без требований к опыту работы также достаточно распространены, что может быть полезно для соискателей, начинающих свою карьеру.\n",
        "\"\"\""
      ]
    },
    {
      "cell_type": "markdown",
      "id": "7ea20ab6-04a7-40a0-adec-443a0e5a42c3",
      "metadata": {
        "id": "7ea20ab6-04a7-40a0-adec-443a0e5a42c3"
      },
      "source": [
        "## 5. Анализ работодателей"
      ]
    },
    {
      "cell_type": "markdown",
      "id": "968aed80-74ef-4ffb-b5bf-c65b84e9caea",
      "metadata": {
        "id": "968aed80-74ef-4ffb-b5bf-c65b84e9caea"
      },
      "source": [
        "1. Напишите запрос, который позволит узнать, какие работодатели находятся на первом и пятом месте по количеству вакансий."
      ]
    },
    {
      "cell_type": "code",
      "execution_count": 25,
      "id": "f2d62796-d400-4ec1-a675-88112739a50e",
      "metadata": {
        "id": "f2d62796-d400-4ec1-a675-88112739a50e"
      },
      "outputs": [],
      "source": [
        "# текст запроса\n",
        "query_5_1 = f'''\n",
        "    SELECT e.name, COUNT(v.id) AS vacancy_count\n",
        "    FROM public.employers e\n",
        "    JOIN public.vacancies v ON e.id = v.employer_id\n",
        "    GROUP BY e.name\n",
        "    ORDER BY vacancy_count DESC\n",
        "    LIMIT 5\n",
        "'''"
      ]
    },
    {
      "cell_type": "code",
      "execution_count": 26,
      "id": "64tOMkAxqkQk",
      "metadata": {
        "id": "64tOMkAxqkQk",
        "colab": {
          "base_uri": "https://localhost:8080/"
        },
        "outputId": "61eab3e3-a297-4f77-b337-62ab190919db"
      },
      "outputs": [
        {
          "output_type": "stream",
          "name": "stderr",
          "text": [
            "<ipython-input-26-c7de93b4c06a>:2: UserWarning: pandas only supports SQLAlchemy connectable (engine/connection) or database string URI or sqlite3 DBAPI2 connection. Other DBAPI2 objects are not tested. Please consider using SQLAlchemy.\n",
            "  df = pd.read_sql_query(query_5_1, connection)\n"
          ]
        },
        {
          "output_type": "stream",
          "name": "stdout",
          "text": [
            "Работодатели на первом и пятом месте по количеству вакансий:\n",
            "            name  vacancy_count\n",
            "0         Яндекс           1933\n",
            "1     Ростелеком            491\n",
            "2       Тинькофф            444\n",
            "3           СБЕР            428\n",
            "4  Газпром нефть            331\n"
          ]
        }
      ],
      "source": [
        "# результат запроса\n",
        "df = pd.read_sql_query(query_5_1, connection)\n",
        "print(\"Работодатели на первом и пятом месте по количеству вакансий:\")\n",
        "print(df)"
      ]
    },
    {
      "cell_type": "markdown",
      "id": "68377cfc-b378-43dc-ab7d-1195abf2c515",
      "metadata": {
        "id": "68377cfc-b378-43dc-ab7d-1195abf2c515"
      },
      "source": [
        "2. Напишите запрос, который для каждого региона выведет количество работодателей и вакансий в нём.\n",
        "Среди регионов, в которых нет вакансий, найдите тот, в котором наибольшее количество работодателей.\n"
      ]
    },
    {
      "cell_type": "code",
      "execution_count": 27,
      "id": "dd7df27a-e3e8-412e-a21a-5d389b71e891",
      "metadata": {
        "id": "dd7df27a-e3e8-412e-a21a-5d389b71e891"
      },
      "outputs": [],
      "source": [
        "# текст запроса\n",
        "query_5_2 = f'''\n",
        "SELECT  t_a.name as region\n",
        "        ,count(t_e.id) as employers_cnt\n",
        "        ,count(t_v.id) as vacancies_cnt\n",
        "FROM areas as t_a\n",
        "\n",
        "LEFT JOIN vacancies as t_v\n",
        "ON t_a.id = t_v.area_id\n",
        "\n",
        "right JOIN employers as t_e\n",
        "ON t_a.id = t_e.area\n",
        "\n",
        "GROUP BY t_a.name\n",
        "HAVING count(t_v.id) = 0\n",
        "ORDER BY employers_cnt DESC\n",
        "LIMIT 5\n",
        "'''"
      ]
    },
    {
      "cell_type": "code",
      "execution_count": 28,
      "id": "x1ikWbydrbf6",
      "metadata": {
        "id": "x1ikWbydrbf6",
        "colab": {
          "base_uri": "https://localhost:8080/"
        },
        "outputId": "0a4cada5-e40a-4a68-b584-a19a1f14006b"
      },
      "outputs": [
        {
          "output_type": "stream",
          "name": "stderr",
          "text": [
            "<ipython-input-28-e2eefbbf8b9b>:2: UserWarning: pandas only supports SQLAlchemy connectable (engine/connection) or database string URI or sqlite3 DBAPI2 connection. Other DBAPI2 objects are not tested. Please consider using SQLAlchemy.\n",
            "  df = pd.read_sql_query(query_5_2, connection)\n"
          ]
        },
        {
          "output_type": "stream",
          "name": "stdout",
          "text": [
            "Количество работодателей и вакансий в каждом регионе:\n",
            "               region  employers_cnt  vacancies_cnt\n",
            "0              Россия            410              0\n",
            "1           Казахстан            207              0\n",
            "2  Московская область             75              0\n",
            "3  Краснодарский край             19              0\n",
            "4            Беларусь             18              0\n"
          ]
        }
      ],
      "source": [
        "# результат запроса\n",
        "df = pd.read_sql_query(query_5_2, connection)\n",
        "print(\"Количество работодателей и вакансий в каждом регионе:\")\n",
        "print(df)"
      ]
    },
    {
      "cell_type": "markdown",
      "id": "f2fe0acb-ab1a-4e15-9326-2560e22d73c1",
      "metadata": {
        "id": "f2fe0acb-ab1a-4e15-9326-2560e22d73c1"
      },
      "source": [
        "3. Для каждого работодателя посчитайте количество регионов, в которых он публикует свои вакансии. Отсортируйте результат по убыванию количества.\n"
      ]
    },
    {
      "cell_type": "code",
      "execution_count": 29,
      "id": "6271f8ad-bd2e-4196-ae4a-5b39c4c1010e",
      "metadata": {
        "id": "6271f8ad-bd2e-4196-ae4a-5b39c4c1010e"
      },
      "outputs": [],
      "source": [
        "# текст запроса\n",
        "query_5_3 = f'''\n",
        "    SELECT e.name, COUNT(DISTINCT v.area_id) AS area_count\n",
        "    FROM public.employers e\n",
        "    JOIN public.vacancies v ON e.id = v.employer_id\n",
        "    GROUP BY e.name\n",
        "    ORDER BY area_count DESC\n",
        "'''"
      ]
    },
    {
      "cell_type": "code",
      "execution_count": 30,
      "id": "1EIvX3HasH4F",
      "metadata": {
        "id": "1EIvX3HasH4F",
        "colab": {
          "base_uri": "https://localhost:8080/"
        },
        "outputId": "b2c222eb-c285-4ac8-c0a4-fc7f040643fb"
      },
      "outputs": [
        {
          "output_type": "stream",
          "name": "stderr",
          "text": [
            "<ipython-input-30-d8f8d8419647>:2: UserWarning: pandas only supports SQLAlchemy connectable (engine/connection) or database string URI or sqlite3 DBAPI2 connection. Other DBAPI2 objects are not tested. Please consider using SQLAlchemy.\n",
            "  df = pd.read_sql_query(query_5_3, connection)\n"
          ]
        },
        {
          "output_type": "stream",
          "name": "stdout",
          "text": [
            "Количество регионов, в которых публикует вакансии каждый работодатель:\n",
            "                         name  area_count\n",
            "0                      Яндекс         181\n",
            "1                  Ростелеком         152\n",
            "2                  Спецремонт         116\n",
            "3      Поляков Денис Иванович          88\n",
            "4                   ООО ЕФИН           71\n",
            "...                       ...         ...\n",
            "14761                  UniSol           1\n",
            "14762            UNISTORY LLC           1\n",
            "14763                   UNIT6           1\n",
            "14764     United Distribution           1\n",
            "14765              UNITEL LLC           1\n",
            "\n",
            "[14766 rows x 2 columns]\n"
          ]
        }
      ],
      "source": [
        "# результат запроса\n",
        "df = pd.read_sql_query(query_5_3, connection)\n",
        "print(\"Количество регионов, в которых публикует вакансии каждый работодатель:\")\n",
        "print(df)"
      ]
    },
    {
      "cell_type": "markdown",
      "id": "eab2206d-d95b-468b-8e5f-34381abf0ce7",
      "metadata": {
        "id": "eab2206d-d95b-468b-8e5f-34381abf0ce7"
      },
      "source": [
        "4. Напишите запрос для подсчёта количества работодателей, у которых не указана сфера деятельности."
      ]
    },
    {
      "cell_type": "code",
      "execution_count": 31,
      "id": "80defb23-bfb1-4a18-8be6-bf36aa7165d5",
      "metadata": {
        "id": "80defb23-bfb1-4a18-8be6-bf36aa7165d5"
      },
      "outputs": [],
      "source": [
        "# текст запроса\n",
        "query_5_4 = f'''\n",
        "    SELECT COUNT(DISTINCT e.id) AS employer_count\n",
        "    FROM public.employers e\n",
        "    LEFT JOIN public.employers_industries ei ON e.id = ei.employer_id\n",
        "    WHERE ei.employer_id IS NULL\n",
        "'''"
      ]
    },
    {
      "cell_type": "code",
      "execution_count": 32,
      "id": "Dp_yCx6ysQSu",
      "metadata": {
        "id": "Dp_yCx6ysQSu",
        "colab": {
          "base_uri": "https://localhost:8080/"
        },
        "outputId": "dc8d8138-26ce-41c4-a974-0d05b5e6b5c6"
      },
      "outputs": [
        {
          "output_type": "stream",
          "name": "stdout",
          "text": [
            "Количество работодателей, у которых не указана сфера деятельности:\n",
            "   employer_count\n",
            "0            8419\n"
          ]
        },
        {
          "output_type": "stream",
          "name": "stderr",
          "text": [
            "<ipython-input-32-1d5ec7900db2>:2: UserWarning: pandas only supports SQLAlchemy connectable (engine/connection) or database string URI or sqlite3 DBAPI2 connection. Other DBAPI2 objects are not tested. Please consider using SQLAlchemy.\n",
            "  df = pd.read_sql_query(query_5_4, connection)\n"
          ]
        }
      ],
      "source": [
        "# результат запроса\n",
        "df = pd.read_sql_query(query_5_4, connection)\n",
        "print(\"Количество работодателей, у которых не указана сфера деятельности:\")\n",
        "print(df)"
      ]
    },
    {
      "cell_type": "markdown",
      "id": "0112af31-f6b0-4e3b-82ab-71296e752e5e",
      "metadata": {
        "id": "0112af31-f6b0-4e3b-82ab-71296e752e5e"
      },
      "source": [
        "5. Напишите запрос, чтобы узнать название компании, находящейся на третьем месте в алфавитном списке (по названию) компаний, у которых указано четыре сферы деятельности."
      ]
    },
    {
      "cell_type": "code",
      "execution_count": 33,
      "id": "973b0cfc-a972-470a-8b4a-68744ef220c4",
      "metadata": {
        "id": "973b0cfc-a972-470a-8b4a-68744ef220c4"
      },
      "outputs": [],
      "source": [
        "# текст запроса\n",
        "query_5_5 = f'''\n",
        "    SELECT e.name\n",
        "    FROM public.employers e\n",
        "    JOIN public.employers_industries ei ON e.id = ei.employer_id\n",
        "    GROUP BY e.name\n",
        "    HAVING COUNT(ei.industry_id) = 4\n",
        "    ORDER BY e.name\n",
        "    LIMIT 1 OFFSET 2\n",
        "'''"
      ]
    },
    {
      "cell_type": "code",
      "execution_count": 34,
      "id": "xsPtpp8EsaED",
      "metadata": {
        "id": "xsPtpp8EsaED",
        "colab": {
          "base_uri": "https://localhost:8080/"
        },
        "outputId": "b90ad494-c62b-4670-9194-0f9b09cd300d"
      },
      "outputs": [
        {
          "output_type": "stream",
          "name": "stderr",
          "text": [
            "<ipython-input-34-7ce8026abc22>:2: UserWarning: pandas only supports SQLAlchemy connectable (engine/connection) or database string URI or sqlite3 DBAPI2 connection. Other DBAPI2 objects are not tested. Please consider using SQLAlchemy.\n",
            "  df = pd.read_sql_query(query_5_5, connection)\n"
          ]
        },
        {
          "output_type": "stream",
          "name": "stdout",
          "text": [
            "5.5. Название компании на третьем месте в алфавитном списке (по названию) компаний, у которых указано четыре сферы деятельности:\n",
            "   name\n",
            "0  2ГИС\n"
          ]
        }
      ],
      "source": [
        "# результат запроса\n",
        "df = pd.read_sql_query(query_5_5, connection)\n",
        "print(\"5.5. Название компании на третьем месте в алфавитном списке (по названию) компаний, у которых указано четыре сферы деятельности:\")\n",
        "print(df)"
      ]
    },
    {
      "cell_type": "markdown",
      "id": "3bfcfdaf-755d-4d2b-8ed8-326201dc07ab",
      "metadata": {
        "id": "3bfcfdaf-755d-4d2b-8ed8-326201dc07ab"
      },
      "source": [
        "6. С помощью запроса выясните, у какого количества работодателей в качестве сферы деятельности указана «Разработка программного обеспечения».\n"
      ]
    },
    {
      "cell_type": "code",
      "execution_count": 35,
      "id": "ad3f270f-2991-47eb-929b-e8f88a55b0d1",
      "metadata": {
        "id": "ad3f270f-2991-47eb-929b-e8f88a55b0d1"
      },
      "outputs": [],
      "source": [
        "# текст запроса\n",
        "query_5_6 = f'''\n",
        "    SELECT COUNT(DISTINCT e.id) AS employer_count\n",
        "    FROM public.employers e\n",
        "    JOIN public.employers_industries ei ON e.id = ei.employer_id\n",
        "    JOIN public.industries i ON ei.industry_id = i.id\n",
        "    WHERE i.name = 'Разработка программного обеспечения'\n",
        "'''"
      ]
    },
    {
      "cell_type": "code",
      "execution_count": 36,
      "id": "H72qxWM0shPR",
      "metadata": {
        "id": "H72qxWM0shPR",
        "colab": {
          "base_uri": "https://localhost:8080/"
        },
        "outputId": "1ee5dc3f-0bca-4bac-cc6e-551ce58a12e8"
      },
      "outputs": [
        {
          "output_type": "stream",
          "name": "stdout",
          "text": [
            "5.6. Количество работодателей, у которых в качестве сферы деятельности указана «Разработка программного обеспечения»:\n",
            "   employer_count\n",
            "0            3553\n"
          ]
        },
        {
          "output_type": "stream",
          "name": "stderr",
          "text": [
            "<ipython-input-36-f04918dba1d8>:2: UserWarning: pandas only supports SQLAlchemy connectable (engine/connection) or database string URI or sqlite3 DBAPI2 connection. Other DBAPI2 objects are not tested. Please consider using SQLAlchemy.\n",
            "  df = pd.read_sql_query(query_5_6, connection)\n"
          ]
        }
      ],
      "source": [
        "# результат запроса\n",
        "df = pd.read_sql_query(query_5_6, connection)\n",
        "print(\"5.6. Количество работодателей, у которых в качестве сферы деятельности указана «Разработка программного обеспечения»:\")\n",
        "print(df)"
      ]
    },
    {
      "cell_type": "markdown",
      "id": "c893936b",
      "metadata": {
        "id": "c893936b"
      },
      "source": [
        "7. Для компании «Яндекс» выведите список [городов-миллионников](https://ru.wikipedia.org/wiki/%D0%93%D0%BE%D1%80%D0%BE%D0%B4%D0%B0-%D0%BC%D0%B8%D0%BB%D0%BB%D0%B8%D0%BE%D0%BD%D0%B5%D1%80%D1%8B_%D0%A0%D0%BE%D1%81%D1%81%D0%B8%D0%B8), в которых представлены вакансии компании, вместе с количеством вакансий в этих регионах. Также добавьте строку \"Total\" с общим количеством вакансий компании. Результат отсортируйте по возрастанию количества.\n",
        "\n",
        "    Если возникнут трудности с этим заданием, посмотрите материалы модуля 6.4 «Как получать данные из веб-источников и API»."
      ]
    },
    {
      "cell_type": "code",
      "execution_count": 37,
      "id": "ZdfrL6gIs1Pn",
      "metadata": {
        "id": "ZdfrL6gIs1Pn",
        "colab": {
          "base_uri": "https://localhost:8080/"
        },
        "outputId": "e5211a68-c9ea-40ce-e2af-dad4c600d12c"
      },
      "outputs": [
        {
          "output_type": "execute_result",
          "data": {
            "text/plain": [
              "['Москва',\n",
              " 'Санкт-Петербург',\n",
              " 'Новосибирск',\n",
              " 'Екатеринбург',\n",
              " 'Казань',\n",
              " 'Красноярск',\n",
              " 'Нижний Новгород',\n",
              " 'Челябинск',\n",
              " 'Уфа',\n",
              " 'Самара',\n",
              " 'Ростов-на-Дону',\n",
              " 'Краснодар',\n",
              " 'Омск',\n",
              " 'Воронеж',\n",
              " 'Пермь',\n",
              " 'Волгоград']"
            ]
          },
          "metadata": {},
          "execution_count": 37
        }
      ],
      "source": [
        "# код для получения списка городов-милионников\n",
        "url = 'https://ru.wikipedia.org/wiki/%D0%93%D0%BE%D1%80%D0%BE%D0%B4%D0%B0-%D0%BC%D0%B8%D0%BB%D0%BB%D0%B8%D0%BE%D0%BD%D0%B5%D1%80%D1%8B_%D0%A0%D0%BE%D1%81%D1%81%D0%B8%D0%B8#%D0%A1%D0%BF%D0%B8%D1%81%D0%BE%D0%BA_%D0%B3%D0%BE%D1%80%D0%BE%D0%B4%D0%BE%D0%B2-%D0%BC%D0%B8%D0%BB%D0%BB%D0%B8%D0%BE%D0%BD%D0%B5%D1%80%D0%BE%D0%B2'\n",
        "data = pd.read_html(url)\n",
        "city_df = data[0]\n",
        "city_list = list(city_df['Город'])\n",
        "city_list"
      ]
    },
    {
      "cell_type": "code",
      "execution_count": 38,
      "id": "5a0e32a4-e68a-4365-8a39-2fe24c542c36",
      "metadata": {
        "id": "5a0e32a4-e68a-4365-8a39-2fe24c542c36"
      },
      "outputs": [],
      "source": [
        "# текст запроса\n",
        "query_5_7 = f'''\n",
        "    WITH yandex_vacancies AS (\n",
        "        SELECT a.name AS area_name,\n",
        "               COUNT(v.id) AS vacancy_count\n",
        "        FROM public.vacancies v\n",
        "        JOIN public.employers e ON v.employer_id = e.id\n",
        "        JOIN public.areas a ON v.area_id = a.id\n",
        "        WHERE e.name = 'Яндекс' AND a.name IN {tuple(city_list)}\n",
        "        GROUP BY a.id\n",
        "    ),\n",
        "    total_vacancies AS (\n",
        "        SELECT 'Total' AS area_name, SUM(vacancy_count) AS vacancy_count\n",
        "        FROM yandex_vacancies\n",
        "    )\n",
        "    SELECT * FROM yandex_vacancies\n",
        "    UNION ALL\n",
        "    SELECT * FROM total_vacancies\n",
        "    ORDER BY area_name\n",
        "'''\n"
      ]
    },
    {
      "cell_type": "code",
      "execution_count": 39,
      "id": "ttPhiO1rsvPq",
      "metadata": {
        "id": "ttPhiO1rsvPq",
        "colab": {
          "base_uri": "https://localhost:8080/"
        },
        "outputId": "29efd972-dd8d-43c7-8904-a766a34be52c"
      },
      "outputs": [
        {
          "output_type": "stream",
          "name": "stderr",
          "text": [
            "<ipython-input-39-912085f8ed85>:2: UserWarning: pandas only supports SQLAlchemy connectable (engine/connection) or database string URI or sqlite3 DBAPI2 connection. Other DBAPI2 objects are not tested. Please consider using SQLAlchemy.\n",
            "  df_yandex_cities = pd.read_sql_query(query_5_7, connection)\n"
          ]
        },
        {
          "output_type": "stream",
          "name": "stdout",
          "text": [
            "Список городов-миллионников для компании «Яндекс» с количеством вакансий и строкой 'Total':\n",
            "          area_name  vacancy_count\n",
            "0             Total          485.0\n",
            "1         Волгоград           24.0\n",
            "2           Воронеж           32.0\n",
            "3      Екатеринбург           39.0\n",
            "4            Казань           25.0\n",
            "5         Краснодар           30.0\n",
            "6        Красноярск           23.0\n",
            "7            Москва           54.0\n",
            "8   Нижний Новгород           36.0\n",
            "9       Новосибирск           35.0\n",
            "10             Омск           21.0\n",
            "11            Пермь           25.0\n",
            "12   Ростов-на-Дону           25.0\n",
            "13           Самара           26.0\n",
            "14  Санкт-Петербург           42.0\n",
            "15              Уфа           26.0\n",
            "16        Челябинск           22.0\n"
          ]
        }
      ],
      "source": [
        "# результат запроса\n",
        "df_yandex_cities = pd.read_sql_query(query_5_7, connection)\n",
        "print(\"Список городов-миллионников для компании «Яндекс» с количеством вакансий и строкой 'Total':\")\n",
        "print(df_yandex_cities)"
      ]
    },
    {
      "cell_type": "markdown",
      "id": "04966e40-3bc3-4dc8-9ba2-e80580ce3abc",
      "metadata": {
        "id": "04966e40-3bc3-4dc8-9ba2-e80580ce3abc"
      },
      "source": [
        "***"
      ]
    },
    {
      "cell_type": "code",
      "execution_count": 42,
      "id": "aGGyER-yt4SR",
      "metadata": {
        "id": "aGGyER-yt4SR",
        "colab": {
          "base_uri": "https://localhost:8080/",
          "height": 72
        },
        "outputId": "d16c5805-9eed-4d09-92b0-cfeb88474c1a"
      },
      "outputs": [
        {
          "output_type": "execute_result",
          "data": {
            "text/plain": [
              "'\\n## 1. Лидеры по количеству вакансий\\n- **Яндекс** занимает первое место с **1933** вакансиями, что может быть связано с активным ростом компании в сфере технологий и расширением её услуг. Яндекс активно развивает новые направления, такие как Яндекс.Облако, Яндекс.Такси и другие IT-услуги, что требует увеличения штата сотрудников.\\n- **Газпром нефть** на пятом месте с **331** вакансией. Это указывает на то, что, несмотря на стабильность и размер компании, она не так активно расширяется в области IT, что может быть связано с характером её бизнеса, который в основном сосредоточен на традиционных отраслях.\\n\\n## 2. Региональный анализ\\n- В регионах, таких как **Россия** и **Казахстан**, зарегистрировано большое количество работодателей, но отсутствуют вакансии. Это может указывать на то, что компании в этих регионах не нуждаются в новых сотрудниках или не имеют достаточного финансирования для расширения. Возможно, это также связано с экономической ситуацией в этих странах.\\n- Регионы с высоким количеством работодателей, но без вакансий, могут стать целевой аудиторией для кадровых агентств, которые могут предложить программы по обучению и повышению квалификации для местных специалистов.\\n\\n## 3. Многообразие регионов\\n- **Яндекс** и **Ростелеком** публикуют вакансии в большом количестве регионов, что говорит о их национальном масштабе и желании привлекать талантливых специалистов из разных уголков страны. Это создает конкуренцию на рынке труда и может способствовать повышению уровня зарплат в IT-секторе.\\n- Прогнозируя дальнейшее развитие, можно ожидать, что компании будут продолжать расширять свое присутствие в новых регионах, что приведет к увеличению числа вакансий.\\n\\n## 4. Сфера деятельности работодателей\\n- Высокое количество работодателей с незаявленной сферой деятельности (8419) может говорить о недостаточной прозрачности на рынке труда. Это может затруднять поиск вакансий для соискателей и снижать доверие к таким компаниям.\\n- Прогноз: в будущем компании могут начать более активно указывать свои сферы деятельности, чтобы привлечь внимание к своим вакансиям, особенно в условиях растущей конкуренции за таланты.\\n\\n## 5. Прогноз по сфере \"Разработка программного обеспечения\"\\n- С увеличением числа работодателей в сфере \"Разработка программного обеспечения\" (3553) можно предположить, что спрос на IT-специалистов будет расти. Это связано с цифровизацией бизнеса и переходом на удаленные технологии.\\n- Прогноз: в ближайшие годы можно ожидать рост числа вакансий в этой области, что создаст дополнительные возможности для карьерного роста для специалистов.\\n\\n## 6. Вакансии в городах-миллионниках\\n- Яндекс имеет значительное количество вакансий в городах-миллионниках, что может быть связано с концентрацией талантов и развитой инфраструктурой в этих регионах. Это также указывает на то, что компании предпочитают нанимать сотрудников в крупных городах, где доступ к ресурсам и технологиям более развит.\\n- Прогноз: с ростом удаленной работы компании могут начать открывать вакансии и в менее крупных городах, что позволит привлекать специалистов из разных регионов.\\n\\n---\\n\\n# Заключение\\nАнализ работодателей показывает, что IT-рынок в России продолжает расти, и компании, такие как Яндекс, играют ключевую роль в этом процессе. Однако наличие большого числа работодателей без вакансий и недостаточная прозрачность в указании сфер деятельности могут стать препятствиями для дальнейшего развития. Прогнозы указывают на устойчивый рост спроса на IT-специалистов, что открывает новые возможности для карьерного роста и развития в этой области.\\n'"
            ],
            "application/vnd.google.colaboratory.intrinsic+json": {
              "type": "string"
            }
          },
          "metadata": {},
          "execution_count": 42
        }
      ],
      "source": [
        "# выводы по анализу работодателей и прогнозы\n",
        "'''\n",
        "## 1. Лидеры по количеству вакансий\n",
        "- **Яндекс** занимает первое место с **1933** вакансиями, что может быть связано с активным ростом компании в сфере технологий и расширением её услуг. Яндекс активно развивает новые направления, такие как Яндекс.Облако, Яндекс.Такси и другие IT-услуги, что требует увеличения штата сотрудников.\n",
        "- **Газпром нефть** на пятом месте с **331** вакансией. Это указывает на то, что, несмотря на стабильность и размер компании, она не так активно расширяется в области IT, что может быть связано с характером её бизнеса, который в основном сосредоточен на традиционных отраслях.\n",
        "\n",
        "## 2. Многообразие регионов\n",
        "- **Яндекс** и **Ростелеком** публикуют вакансии в большом количестве регионов, что говорит о их национальном масштабе и желании привлекать талантливых специалистов из разных уголков страны. Это создает конкуренцию на рынке труда и может способствовать повышению уровня зарплат в IT-секторе.\n",
        "- Прогнозируя дальнейшее развитие, можно ожидать, что компании будут продолжать расширять свое присутствие в новых регионах, что приведет к увеличению числа вакансий.\n",
        "\n",
        "## 3. Сфера деятельности работодателей\n",
        "- Высокое количество работодателей с незаявленной сферой деятельности (8419) может говорить о недостаточной прозрачности на рынке труда. Это может затруднять поиск вакансий для соискателей и снижать доверие к таким компаниям.\n",
        "- Прогноз: в будущем компании могут начать более активно указывать свои сферы деятельности, чтобы привлечь внимание к своим вакансиям, особенно в условиях растущей конкуренции за таланты.\n",
        "\n",
        "## 4. Прогноз по сфере \"Разработка программного обеспечения\"\n",
        "- С увеличением числа работодателей в сфере \"Разработка программного обеспечения\" (3553) можно предположить, что спрос на IT-специалистов будет расти. Это связано с цифровизацией бизнеса и переходом на удаленные технологии.\n",
        "- Прогноз: в ближайшие годы можно ожидать рост числа вакансий в этой области, что создаст дополнительные возможности для карьерного роста для специалистов.\n",
        "\n",
        "## 5. Вакансии в городах-миллионниках\n",
        "- Яндекс имеет значительное количество вакансий в городах-миллионниках, что может быть связано с концентрацией талантов и развитой инфраструктурой в этих регионах. Это также указывает на то, что компании предпочитают нанимать сотрудников в крупных городах, где доступ к ресурсам и технологиям более развит.\n",
        "- Прогноз: с ростом удаленной работы компании могут начать открывать вакансии и в менее крупных городах, что позволит привлекать специалистов из разных регионов.\n",
        "\n",
        "---\n",
        "\n",
        "# Заключение\n",
        "Анализ работодателей показывает, что IT-рынок в России продолжает расти, и компании, такие как Яндекс, играют ключевую роль в этом процессе. Однако наличие большого числа работодателей без вакансий и недостаточная прозрачность в указании сфер деятельности могут стать препятствиями для дальнейшего развития. Прогнозы указывают на устойчивый рост спроса на IT-специалистов, что открывает новые возможности для карьерного роста и развития в этой области.\n",
        "'''"
      ]
    },
    {
      "cell_type": "markdown",
      "id": "b1ef156a-efcb-49ce-bb23-90763e7f35b2",
      "metadata": {
        "id": "b1ef156a-efcb-49ce-bb23-90763e7f35b2",
        "tags": []
      },
      "source": [
        "## 6. Предметный анализ"
      ]
    },
    {
      "cell_type": "markdown",
      "id": "b9cd50a0-992d-4988-8463-2b2b1c4629b4",
      "metadata": {
        "id": "b9cd50a0-992d-4988-8463-2b2b1c4629b4"
      },
      "source": [
        "1. Сколько вакансий имеет отношение к данным?\n",
        "\n",
        "    Считаем, что вакансия имеет отношение к данным, если в её названии содержатся слова `'data'` или `'данн'`.\n",
        "\n",
        "    *Обратите внимание, что названия вакансий могут быть написаны в любом регистре.*\n"
      ]
    },
    {
      "cell_type": "code",
      "execution_count": null,
      "id": "54ab0e50-c0f1-47cc-a54b-bc5c8bc363f9",
      "metadata": {
        "id": "54ab0e50-c0f1-47cc-a54b-bc5c8bc363f9"
      },
      "outputs": [],
      "source": [
        "# текст запроса\n",
        "query_6_1 = '''\n",
        "SELECT COUNT(*) AS data_related_vacancies\n",
        "FROM public.vacancies\n",
        "WHERE LOWER(name) LIKE '%data%' OR LOWER(name) LIKE '%данн%';\n",
        "'''"
      ]
    },
    {
      "cell_type": "code",
      "execution_count": null,
      "id": "9F1meAqsuUjd",
      "metadata": {
        "id": "9F1meAqsuUjd",
        "colab": {
          "base_uri": "https://localhost:8080/"
        },
        "outputId": "0da07769-4670-4233-c5f1-3e6dc360f520"
      },
      "outputs": [
        {
          "output_type": "stream",
          "name": "stderr",
          "text": [
            "<ipython-input-42-c3a4f1aea8ba>:2: UserWarning: pandas only supports SQLAlchemy connectable (engine/connection) or database string URI or sqlite3 DBAPI2 connection. Other DBAPI2 objects are not tested. Please consider using SQLAlchemy.\n",
            "  df = pd.read_sql_query(query_6_1, connection)\n"
          ]
        },
        {
          "output_type": "stream",
          "name": "stdout",
          "text": [
            "Сколько вакансий имеет отношение к данным?\n",
            "   data_related_vacancies\n",
            "0                    1771\n"
          ]
        }
      ],
      "source": [
        "# результат запроса\n",
        "df = pd.read_sql_query(query_6_1, connection)\n",
        "print(\"Сколько вакансий имеет отношение к данным?\")\n",
        "print(df)"
      ]
    },
    {
      "cell_type": "markdown",
      "id": "4dea20cb-a36b-474a-a0b9-e08e8e3857a5",
      "metadata": {
        "id": "4dea20cb-a36b-474a-a0b9-e08e8e3857a5"
      },
      "source": [
        "2. Сколько есть подходящих вакансий для начинающего дата-сайентиста? Будем считать вакансиями для дата-сайентистов такие, в названии которых есть хотя бы одно из следующих сочетаний:\n",
        "    * 'data scientist'\n",
        "    * 'data science'\n",
        "    * 'исследователь данных'\n",
        "    * 'ML' (здесь не нужно брать вакансии по HTML)\n",
        "    * 'machine learning'\n",
        "    * 'машинн%обучен%'\n",
        "\n",
        "    **В следующих заданиях мы продолжим работать с вакансиями по этому условию.**\n",
        "\n",
        "    Считаем вакансиями для специалистов уровня Junior следующие:\n",
        "    + в названии есть слово “junior” **или**\n",
        "    + требуемый опыт — «Нет опыта» **или**\n",
        "    + тип трудоустройства — «Стажировка».\n"
      ]
    },
    {
      "cell_type": "code",
      "execution_count": null,
      "id": "9c61b3c0-bb66-46c9-ae1e-81d3f5752b4a",
      "metadata": {
        "id": "9c61b3c0-bb66-46c9-ae1e-81d3f5752b4a"
      },
      "outputs": [],
      "source": [
        "# текст запроса\n",
        "query_6_2 = '''\n",
        "SELECT COUNT(*) AS junior_ds_vacancies\n",
        "FROM public.vacancies\n",
        "WHERE (LOWER(name) LIKE '%data scientist%'\n",
        "   OR LOWER(name) LIKE '%data science%'\n",
        "   OR LOWER(name) LIKE '%исследователь данных%'\n",
        "   OR (LOWER(name) LIKE '%ml%' AND LOWER(name) NOT LIKE '%html%')\n",
        "   OR LOWER(name) LIKE '%machine learning%'\n",
        "   OR LOWER(name) LIKE '%машинн%обучен%')\n",
        " AND (LOWER(name) LIKE '%junior%'\n",
        "   OR experience = 'Нет опыта'\n",
        "   OR employment = 'Стажировка');\n",
        "\n",
        "'''"
      ]
    },
    {
      "cell_type": "code",
      "execution_count": null,
      "id": "ZNM-LLYuu1dj",
      "metadata": {
        "id": "ZNM-LLYuu1dj",
        "colab": {
          "base_uri": "https://localhost:8080/"
        },
        "outputId": "4d5a453e-5ad5-4198-eae3-7c29e2ac5d65"
      },
      "outputs": [
        {
          "output_type": "stream",
          "name": "stderr",
          "text": [
            "<ipython-input-44-639603c6ec9d>:2: UserWarning: pandas only supports SQLAlchemy connectable (engine/connection) or database string URI or sqlite3 DBAPI2 connection. Other DBAPI2 objects are not tested. Please consider using SQLAlchemy.\n",
            "  df = pd.read_sql_query(query_6_2, connection)\n"
          ]
        },
        {
          "output_type": "stream",
          "name": "stdout",
          "text": [
            "Сколько есть подходящих вакансий для начинающего дата-сайентиста?\n",
            "   junior_ds_vacancies\n",
            "0                   51\n"
          ]
        }
      ],
      "source": [
        "# результат запроса\n",
        "df = pd.read_sql_query(query_6_2, connection)\n",
        "print(\"Сколько есть подходящих вакансий для начинающего дата-сайентиста?\")\n",
        "print(df)"
      ]
    },
    {
      "cell_type": "markdown",
      "id": "eedceb80-c5ca-480e-b27a-278dfb8b4438",
      "metadata": {
        "id": "eedceb80-c5ca-480e-b27a-278dfb8b4438"
      },
      "source": [
        "3. Сколько есть вакансий для DS, в которых в качестве ключевого навыка указан SQL или Postgres?\n",
        "\n",
        "    *Критерии для отнесения вакансии к DS указаны в предыдущем задании.*"
      ]
    },
    {
      "cell_type": "code",
      "execution_count": null,
      "id": "69621713-0cc5-4f1b-a1d7-bb144fa6148c",
      "metadata": {
        "id": "69621713-0cc5-4f1b-a1d7-bb144fa6148c"
      },
      "outputs": [],
      "source": [
        "# текст запроса\n",
        "query_6_3 = '''\n",
        "SELECT COUNT(*) AS ds_with_sql_or_postgres\n",
        "FROM public.vacancies\n",
        "WHERE (LOWER(name) LIKE '%data scientist%'\n",
        "   OR LOWER(name) LIKE '%data science%'\n",
        "   OR LOWER(name) LIKE '%исследователь данных%'\n",
        "   OR LOWER(name) LIKE '%ml%' AND LOWER(name) NOT LIKE '%html%'\n",
        "   OR LOWER(name) LIKE '%machine learning%'\n",
        "   OR LOWER(name) LIKE '%машинн%обучен%')\n",
        "AND (LOWER(key_skills) LIKE '%sql%' OR LOWER(key_skills) LIKE '%postgres%');\n",
        "'''"
      ]
    },
    {
      "cell_type": "code",
      "execution_count": null,
      "id": "alA8WEAAvGdf",
      "metadata": {
        "id": "alA8WEAAvGdf",
        "colab": {
          "base_uri": "https://localhost:8080/"
        },
        "outputId": "d6133b11-e1e8-447f-a341-a232bbb0bd5e"
      },
      "outputs": [
        {
          "output_type": "stream",
          "name": "stderr",
          "text": [
            "<ipython-input-46-01e82604cb1a>:2: UserWarning: pandas only supports SQLAlchemy connectable (engine/connection) or database string URI or sqlite3 DBAPI2 connection. Other DBAPI2 objects are not tested. Please consider using SQLAlchemy.\n",
            "  df = pd.read_sql_query(query_6_3, connection)\n"
          ]
        },
        {
          "output_type": "stream",
          "name": "stdout",
          "text": [
            "Сколько есть вакансий для DS, в которых в качестве ключевого навыка указан SQL или Postgres?\n",
            "   ds_with_sql_or_postgres\n",
            "0                      229\n"
          ]
        }
      ],
      "source": [
        "# результат запроса\n",
        "df = pd.read_sql_query(query_6_3, connection)\n",
        "print(\"Сколько есть вакансий для DS, в которых в качестве ключевого навыка указан SQL или Postgres?\")\n",
        "print(df)"
      ]
    },
    {
      "cell_type": "markdown",
      "id": "1be1e9c6-37cf-4a5f-bfeb-04cab799dc80",
      "metadata": {
        "id": "1be1e9c6-37cf-4a5f-bfeb-04cab799dc80"
      },
      "source": [
        "4. Проверьте, насколько популярен Python в требованиях работодателей к DS. Для этого вычислите количество вакансий, в которых в качестве ключевого навыка указан Python.\n",
        "\n",
        "    *Это можно сделать помощью запроса, аналогичного предыдущему.*"
      ]
    },
    {
      "cell_type": "code",
      "execution_count": null,
      "id": "0036a355-9ccf-4564-8b01-73d8194297e7",
      "metadata": {
        "id": "0036a355-9ccf-4564-8b01-73d8194297e7"
      },
      "outputs": [],
      "source": [
        "# текст запроса\n",
        "query_6_4 = '''\n",
        "SELECT COUNT(*) AS ds_with_python\n",
        "FROM public.vacancies\n",
        "WHERE (LOWER(name) LIKE '%data scientist%'\n",
        "   OR LOWER(name) LIKE '%data science%'\n",
        "   OR LOWER(name) LIKE '%исследователь данных%'\n",
        "   OR LOWER(name) LIKE '%ml%' AND LOWER(name) NOT LIKE '%html%'\n",
        "   OR LOWER(name) LIKE '%machine learning%'\n",
        "   OR LOWER(name) LIKE '%машинн%обучен%')\n",
        "AND LOWER(key_skills) LIKE '%python%';\n",
        "'''"
      ]
    },
    {
      "cell_type": "code",
      "execution_count": null,
      "id": "1i-5WyucvQ6v",
      "metadata": {
        "id": "1i-5WyucvQ6v",
        "colab": {
          "base_uri": "https://localhost:8080/"
        },
        "outputId": "e3fad260-32df-4fba-81e9-17f8c5eca26e"
      },
      "outputs": [
        {
          "output_type": "stream",
          "name": "stderr",
          "text": [
            "<ipython-input-48-c297ad9cada8>:2: UserWarning: pandas only supports SQLAlchemy connectable (engine/connection) or database string URI or sqlite3 DBAPI2 connection. Other DBAPI2 objects are not tested. Please consider using SQLAlchemy.\n",
            "  df = pd.read_sql_query(query_6_4, connection)\n"
          ]
        },
        {
          "output_type": "stream",
          "name": "stdout",
          "text": [
            "Проверьте, насколько популярен Python в требованиях работодателей к DS\n",
            "   ds_with_python\n",
            "0             357\n"
          ]
        }
      ],
      "source": [
        "# результат запроса\n",
        "df = pd.read_sql_query(query_6_4, connection)\n",
        "print(\"Проверьте, насколько популярен Python в требованиях работодателей к DS\")\n",
        "print(df)"
      ]
    },
    {
      "cell_type": "markdown",
      "id": "ec3c8db7-fa21-4a41-a994-1af63742a642",
      "metadata": {
        "id": "ec3c8db7-fa21-4a41-a994-1af63742a642"
      },
      "source": [
        "5. Сколько ключевых навыков в среднем указывают в вакансиях для DS?\n",
        "Ответ округлите до **двух знаков после точки-разделителя**."
      ]
    },
    {
      "cell_type": "code",
      "source": [
        "# текст запроса\n",
        "query_6_5 = '''\n",
        "SELECT\n",
        "    ROUND(AVG(LENGTH(key_skills) - LENGTH(REPLACE(key_skills, CHR(9), '')) + 1), 2) AS avg_key_skills,\n",
        "    COUNT(*) AS total_vacancies\n",
        "FROM public.vacancies\n",
        "WHERE (LOWER(name) LIKE '%data scientist%'\n",
        "   OR LOWER(name) LIKE '%data science%'\n",
        "   OR LOWER(name) LIKE '%исследователь данных%'\n",
        "   OR (LOWER(name) LIKE '% ml %' AND LOWER(name) NOT LIKE '%html%')\n",
        "   OR LOWER(name) LIKE '%machine learning%'\n",
        "   OR LOWER(name) LIKE '%машинн%обучен%')\n",
        "   AND key_skills IS NOT NULL\n",
        "   AND key_skills != '';\n",
        "'''"
      ],
      "metadata": {
        "id": "ylJPim18GQQs"
      },
      "id": "ylJPim18GQQs",
      "execution_count": null,
      "outputs": []
    },
    {
      "cell_type": "code",
      "execution_count": null,
      "id": "a3V24Tvmviqk",
      "metadata": {
        "id": "a3V24Tvmviqk",
        "colab": {
          "base_uri": "https://localhost:8080/"
        },
        "outputId": "6d466f20-8f09-45dc-d9f0-c8bc2b39bff7"
      },
      "outputs": [
        {
          "output_type": "stream",
          "name": "stderr",
          "text": [
            "<ipython-input-72-161c3ad9c0e4>:2: UserWarning: pandas only supports SQLAlchemy connectable (engine/connection) or database string URI or sqlite3 DBAPI2 connection. Other DBAPI2 objects are not tested. Please consider using SQLAlchemy.\n",
            "  df = pd.read_sql_query(query_6_5, connection)\n"
          ]
        },
        {
          "output_type": "stream",
          "name": "stdout",
          "text": [
            "Сколько ключевых навыков в среднем указывают в вакансиях для DS?\n",
            "   avg_key_skills  total_vacancies\n",
            "0            6.41              352\n"
          ]
        }
      ],
      "source": [
        "# результат запроса\n",
        "df = pd.read_sql_query(query_6_5, connection)\n",
        "print(\"Сколько ключевых навыков в среднем указывают в вакансиях для DS?\")\n",
        "print(df)"
      ]
    },
    {
      "cell_type": "markdown",
      "id": "1041c17a-ca8f-4543-a0ca-32778914fb00",
      "metadata": {
        "id": "1041c17a-ca8f-4543-a0ca-32778914fb00"
      },
      "source": [
        "6. Напишите запрос, позволяющий вычислить, какую зарплату для DS в среднем указывают для каждого типа требуемого опыта (уникальное значение из поля `experience`).\n",
        "\n",
        "    При решении задачи примите во внимание следующее:\n",
        "    1. Рассматриваем только вакансии, у которых заполнено хотя бы одно из двух полей с зарплатой.\n",
        "    2. Если заполнены оба поля с зарплатой, то считаем зарплату по каждой вакансии как сумму двух полей, делённую на 2. Если заполнено только одно из полей, то его и считаем зарплатой по вакансии.\n",
        "    3. Если в расчётах участвует `null`, в результате он тоже даст `null` (посмотрите, что возвращает запрос `select 1 + null`). Чтобы избежать этой ситуацию, мы воспользуемся функцией [coalesce](https://postgrespro.ru/docs/postgresql/9.5/functions-conditional#functions-coalesce-nvl-ifnull), которая заменит `null` на значение, которое мы передадим. Например, посмотрите, что возвращает запрос `select 1 + coalesce(null, 0)`\n",
        "\n",
        "    Выясните, на какую зарплату в среднем может рассчитывать дата-сайентист с опытом работы от 3 до 6 лет. Результат округлите до **целого числа**."
      ]
    },
    {
      "cell_type": "code",
      "source": [
        "# текст запроса\n",
        "query_6_6 = '''\n",
        "SELECT\n",
        "    experience,\n",
        "    ROUND(AVG(COALESCE((salary_from + salary_to) / 2.0, salary_from, salary_to))) AS average_salary\n",
        "FROM\n",
        "    public.vacancies\n",
        "WHERE\n",
        "    ((name like '%ML%' and not name like '%HTML%')\n",
        "    or (lower (name) like '%data scientist%')\n",
        "    or (lower (name) like '%data science%')\n",
        "    or (lower (name) like '%исследователь данных%')\n",
        "    or (lower (name) like '%machine learning%')\n",
        "    or (lower (name) like '%машинн%обучен%'))\n",
        "    AND (salary_from IS NOT NULL OR salary_to IS NOT NULL)\n",
        "GROUP BY\n",
        "    experience\n",
        "ORDER BY\n",
        "    experience;\n",
        "'''"
      ],
      "metadata": {
        "id": "emleRLsck1l9"
      },
      "id": "emleRLsck1l9",
      "execution_count": null,
      "outputs": []
    },
    {
      "cell_type": "code",
      "execution_count": null,
      "id": "aRIJ0mZEwU1_",
      "metadata": {
        "id": "aRIJ0mZEwU1_",
        "colab": {
          "base_uri": "https://localhost:8080/"
        },
        "outputId": "5dd7e611-1b8a-4776-999d-c8f50774b2fe"
      },
      "outputs": [
        {
          "output_type": "stream",
          "name": "stderr",
          "text": [
            "<ipython-input-82-d3dda05798f9>:2: UserWarning: pandas only supports SQLAlchemy connectable (engine/connection) or database string URI or sqlite3 DBAPI2 connection. Other DBAPI2 objects are not tested. Please consider using SQLAlchemy.\n",
            "  df = pd.read_sql_query(query_6_6, connection)\n"
          ]
        },
        {
          "output_type": "stream",
          "name": "stdout",
          "text": [
            "Средняя зарплата для дата-сайентиста по различным уровням опыта работы:\n",
            "           experience  average_salary\n",
            "0           Нет опыта         74643.0\n",
            "1  От 1 года до 3 лет        139675.0\n",
            "2       От 3 до 6 лет        243115.0\n"
          ]
        }
      ],
      "source": [
        "# Выводим результат\n",
        "df = pd.read_sql_query(query_6_6, connection)\n",
        "print(\"Средняя зарплата для дата-сайентиста по различным уровням опыта работы:\")\n",
        "print(df)"
      ]
    },
    {
      "cell_type": "markdown",
      "id": "6a7892b4-4113-4746-adce-18aa2844f18e",
      "metadata": {
        "id": "6a7892b4-4113-4746-adce-18aa2844f18e"
      },
      "source": [
        "***"
      ]
    },
    {
      "cell_type": "code",
      "execution_count": 43,
      "id": "UjLWUptVwY1o",
      "metadata": {
        "id": "UjLWUptVwY1o",
        "colab": {
          "base_uri": "https://localhost:8080/",
          "height": 72
        },
        "outputId": "3e887e0d-8348-4df9-f8b6-da90cc230a76"
      },
      "outputs": [
        {
          "output_type": "execute_result",
          "data": {
            "text/plain": [
              "'\\n1. **Общее количество вакансий, связанных с данными**: \\n   - **1771** вакансия указывает на растущий интерес к специалистам в области данных. Это может быть связано с увеличением объема данных, которые компании собирают и анализируют, а также с ростом популярности аналитики и больших данных (Big Data). Прогнозируется, что спрос на специалистов в этой области будет продолжать расти, так как бизнесы все больше осознают ценность данных для принятия решений.\\n\\n2. **Вакансии для начинающих дата-сайентистов**:\\n   - **51** вакансия для начинающих специалистов говорит о наличии возможностей для входа в профессию. Это может быть связано с образовательными программами и курсами, которые стали более доступными, а также с инициативами компаний по обучению и стажировкам. Прогнозируется, что с увеличением числа образовательных программ и курсов, количество вакансий для начинающих также будет расти, однако конкуренция может оставаться высокой.\\n\\n3. **Вакансии для дата-сайентистов с навыками SQL или Postgres**:\\n   - **229** вакансий с акцентом на SQL и Postgres подчеркивает важность этих технологий для обработки и анализа данных. SQL остается стандартом в области работы с реляционными базами данных, и его востребованность, вероятно, будет сохраняться. Прогнозируется, что с ростом объемов данных также увеличится потребность в более сложных системах управления данными, что может привести к увеличению спроса на специалистов с навыками работы с новыми технологиями, такими как NoSQL и облачные базы данных.\\n\\n4. **Популярность Python среди работодателей**:\\n   - **357** вакансий с указанием Python как ключевого навыка подтверждает его статус как основного языка программирования в области анализа данных и машинного обучения. Это может быть связано с активным развитием библиотек и фреймворков для анализа данных (например, Pandas, NumPy, TensorFlow). Прогнозируется, что Python будет оставаться на пике популярности, однако конкуренция может возрасти с появлением новых языков и технологий.\\n\\n5. **Среднее количество ключевых навыков в вакансиях для дата-сайентистов**:\\n   - Среднее количество **6.41** ключевых навыков говорит о том, что работодатели ищут универсальных специалистов. Это может быть следствием роста междисциплинарных подходов, когда дата-сайентисты должны обладать знаниями в области статистики, программирования и бизнеса. Прогнозируется, что требования к навыкам будут продолжать расти, и кандидаты должны будут постоянно обучаться и адаптироваться к новым технологиям.\\n\\n6. **Средняя зарплата для дата-сайентистов по уровням опыта**:\\n   - Средняя зарплата показывает значительный рост с увеличением опыта:\\n     - **Нет опыта**: 74,643 руб.\\n     - **От 1 года до 3 лет**: 139,675 руб.\\n     - **От 3 до 6 лет**: 243,115 руб.\\n   - Это может свидетельствовать о высокой ценности опыта в данной области. Прогнозируется, что с увеличением спроса на навыки в области данных, зарплаты будут продолжать расти, особенно для специалистов с уникальными или редкими навыками.\\n\\n### Заключение\\nАнализ показывает, что рынок труда для дата-сайентистов активно развивается, и спрос на специалистов в этой области будет продолжать расти. Важно, чтобы начинающие специалисты развивали широкий спектр навыков и оставались в курсе новых технологий. Компании, в свою очередь, должны адаптироваться к изменениям на рынке и инвестировать в обучение своих сотрудников, чтобы оставаться конкурентоспособными.\\n'"
            ],
            "application/vnd.google.colaboratory.intrinsic+json": {
              "type": "string"
            }
          },
          "metadata": {},
          "execution_count": 43
        }
      ],
      "source": [
        "# Выводы по предметному анализу и прогнозы\n",
        "'''\n",
        "1. **Общее количество вакансий, связанных с данными**:\n",
        "   - **1771** вакансия указывает на растущий интерес к специалистам в области данных. Это может быть связано с увеличением объема данных, которые компании собирают и анализируют, а также с ростом популярности аналитики и больших данных (Big Data). Прогнозируется, что спрос на специалистов в этой области будет продолжать расти, так как бизнесы все больше осознают ценность данных для принятия решений.\n",
        "\n",
        "2. **Вакансии для начинающих дата-сайентистов**:\n",
        "   - **51** вакансия для начинающих специалистов говорит о наличии возможностей для входа в профессию. Это может быть связано с образовательными программами и курсами, которые стали более доступными, а также с инициативами компаний по обучению и стажировкам. Прогнозируется, что с увеличением числа образовательных программ и курсов, количество вакансий для начинающих также будет расти, однако конкуренция может оставаться высокой.\n",
        "\n",
        "3. **Вакансии для дата-сайентистов с навыками SQL или Postgres**:\n",
        "   - **229** вакансий с акцентом на SQL и Postgres подчеркивает важность этих технологий для обработки и анализа данных. SQL остается стандартом в области работы с реляционными базами данных, и его востребованность, вероятно, будет сохраняться. Прогнозируется, что с ростом объемов данных также увеличится потребность в более сложных системах управления данными, что может привести к увеличению спроса на специалистов с навыками работы с новыми технологиями, такими как NoSQL и облачные базы данных.\n",
        "\n",
        "4. **Популярность Python среди работодателей**:\n",
        "   - **357** вакансий с указанием Python как ключевого навыка подтверждает его статус как основного языка программирования в области анализа данных и машинного обучения. Это может быть связано с активным развитием библиотек и фреймворков для анализа данных (например, Pandas, NumPy, TensorFlow). Прогнозируется, что Python будет оставаться на пике популярности, однако конкуренция может возрасти с появлением новых языков и технологий.\n",
        "\n",
        "5. **Среднее количество ключевых навыков в вакансиях для дата-сайентистов**:\n",
        "   - Среднее количество **6.41** ключевых навыков говорит о том, что работодатели ищут универсальных специалистов. Это может быть следствием роста междисциплинарных подходов, когда дата-сайентисты должны обладать знаниями в области статистики, программирования и бизнеса. Прогнозируется, что требования к навыкам будут продолжать расти, и кандидаты должны будут постоянно обучаться и адаптироваться к новым технологиям.\n",
        "\n",
        "6. **Средняя зарплата для дата-сайентистов по уровням опыта**:\n",
        "   - Средняя зарплата показывает значительный рост с увеличением опыта:\n",
        "     - **Нет опыта**: 74,643 руб.\n",
        "     - **От 1 года до 3 лет**: 139,675 руб.\n",
        "     - **От 3 до 6 лет**: 243,115 руб.\n",
        "   - Это может свидетельствовать о высокой ценности опыта в данной области. Прогнозируется, что с увеличением спроса на навыки в области данных, зарплаты будут продолжать расти, особенно для специалистов с уникальными или редкими навыками.\n",
        "\n",
        "### Заключение\n",
        "Анализ показывает, что рынок труда для дата-сайентистов активно развивается, и спрос на специалистов в этой области будет продолжать расти. Важно, чтобы начинающие специалисты развивали широкий спектр навыков и оставались в курсе новых технологий. Компании, в свою очередь, должны адаптироваться к изменениям на рынке и инвестировать в обучение своих сотрудников, чтобы оставаться конкурентоспособными.\n",
        "'''"
      ]
    },
    {
      "cell_type": "markdown",
      "id": "c0ED6fh7wiBT",
      "metadata": {
        "id": "c0ED6fh7wiBT"
      },
      "source": [
        "## Общий вывод по проекту"
      ]
    },
    {
      "cell_type": "code",
      "execution_count": 44,
      "id": "h9B3BL-wwj18",
      "metadata": {
        "id": "h9B3BL-wwj18",
        "colab": {
          "base_uri": "https://localhost:8080/",
          "height": 328
        },
        "outputId": "442c6f41-0d9c-4df9-9774-70e3dbbbde8a"
      },
      "outputs": [
        {
          "output_type": "execute_result",
          "data": {
            "text/plain": [
              "'\\n# Выводы по результатам анализа данных о вакансиях\\n\\n## 1. Предварительный анализ данных\\n- **Объем данных**: База данных включает 49,197 вакансий и 23,501 работодателя, охватывающих 1,362 региона.\\n- **Вывод**: Обширная и разнообразная база данных создает возможности для глубокого анализа рынка труда в различных аспектах.\\n\\n## 2. Детальный анализ вакансий\\n- **Географическое распределение**: Вакансии сосредоточены в крупных городах, таких как Москва и Санкт-Петербург. Более 49% вакансий имеют заполненные поля о зарплате, что позволяет проводить точный анализ зарплатных ожиданий.\\n- **Вывод**: Рынок труда в России в значительной степени сконцентрирован в крупных городах, что создает вызовы для соискателей в менее населенных регионах. Высокий процент заполненных данных о зарплатах позволяет более точно оценивать рыночные условия.\\n\\n## 3. Анализ работодателей\\n- **Лидеры рынка**: Яндекс занимает ведущую позицию по количеству вакансий, что указывает на высокий спрос на IT-специалистов. Присутствие большого числа работодателей с незаявленной сферой деятельности говорит о недостаточной прозрачности на рынке труда.\\n- **Вывод**: IT-сектор демонстрирует устойчивый рост, однако недостаточная прозрачность информации о работодателях затрудняет поиск вакансий для соискателей.\\n\\n## 4. Предметный анализ\\n- **Спрос на специалистов**: Вакансии в области данных показывают растущий интерес к специалистам, с увеличением средней зарплаты для дата-сайентистов по мере накопления опыта.\\n- **Вывод**: Спрос на специалистов в области данных продолжает расти, открывая возможности для карьерного роста, но также увеличивает конкуренцию на рынке.\\n\\n## Общий вывод по всем вакансиям в базе данных\\nАнализ вакансий показывает значительный спрос на IT-специалистов и специалистов в области данных. Вакансии сосредоточены в крупных городах, создавая неравномерность в доступности рабочих мест и проблемы для соискателей из менее населенных регионов.\\n\\n### Ключевые выводы:\\n- **Популярные вакансии**: Наиболее востребованы позиции в IT и анализе данных, с акцентом на разработку ПО и дата-сайентистов.\\n- **Региональные различия**: В крупных городах больше возможностей, в то время как в небольших городах вакансий значительно меньше.\\n- **Перспективы для исследований**: Рекомендуется провести анализ зарплат по регионам, изучить влияние удаленной работы на рынок труда и оценить изменения в требованиях к навыкам в различных отраслях.\\n\\n## Прогнозы на будущее\\n- **Рост удаленной работы**: Ожидается, что удаленная работа станет неотъемлемой частью рынка труда, что позволит компаниям расширять свои горизонты и находить таланты за пределами крупных городов.\\n- **Увеличение инвестиций в обучение**: Компании начнут больше инвестировать в обучение и развитие своих сотрудников, чтобы соответствовать требованиям рынка.\\n- **Развитие новых технологий**: С появлением новых технологий, таких как искусственный интеллект и машинное обучение, будет расти спрос на специалистов, обладающих соответствующими навыками.\\n\\n## Заключение\\nАнализ вакансий свидетельствует о трансформации рынка труда в России, вызванной ростом цифровизации и изменением подходов к работе. Соискателям необходимо адаптироваться к новым условиям, а работодателям — улучшать условия труда и прозрачность вакансий, чтобы привлекать и удерживать талантливых специалистов. Прогнозы указывают на устойчивый рост спроса на IT-специалистов, открывая новые возможности для карьерного роста и развития в этой области.\\n\\n## Общий вывод по проекту\\nВ ходе анализа базы данных вакансий, содержащей 49,197 записей, мы пришли к нескольким важным выводам, которые помогают понять текущее состояние рынка труда и его тенденции.\\n\\n1. **Общее количество вакансий и их распределение**:\\n   - Наиболее заметным является то, что на рынке труда присутствует значительное количество вакансий, что открывает множество возможностей для соискателей. Однако, как показал детальный анализ, вакансии сосредоточены преимущественно в крупных городах, таких как Москва, Санкт-Петербург и другие города-миллионники. Это создает неравномерность в доступности рабочих мест, что может стать проблемой для соискателей из менее населенных регионов.\\n\\n2. **Популярные вакансии**:\\n   - Вакансии в области IT и разработки программного обеспечения, а также дата-сайентистов являются наиболее востребованными. Это подтверждается большим количеством предложений от таких компаний, как Яндекс и Газпром нефть. Важно отметить, что спрос на специалистов с навыками работы с данными продолжает расти, что связано с цифровизацией и необходимостью анализа больших объемов информации.\\n\\n3. **Рынок труда в различных городах**:\\n   - Анализ показал, что в крупных городах наблюдается большее количество вакансий и более высокие зарплатные предложения. В то же время, в небольших городах и регионах возможности трудоустройства значительно ограничены. Это создает вызовы для соискателей, которые не могут переехать в крупные города, и подчеркивает необходимость развития удаленной работы.\\n\\n4. **Перспективы и возможности для исследований**:\\n   - Мы можем провести дополнительные исследования, например, проанализировать динамику изменения зарплат по регионам, изучить влияние удаленной работы на рынок труда или оценить, как изменяются требования к навыкам в зависимости от отрасли. Также интересно было бы провести сравнительный анализ вакансий в различных секторах экономики, чтобы выявить, где наблюдается наибольший рост.\\n\\n5. **Прогнозы**:\\n   - В ближайшие годы ожидается рост числа вакансий в сфере IT и анализа данных, что создаст дополнительные возможности для карьерного роста. Однако, с увеличением спроса на специалистов, конкуренция на рынке труда также возрастет. Соискателям важно активно развивать свои навыки и оставаться в курсе новых технологий, чтобы оставаться конкурентоспособными.\\n\\nТаким образом, текущая ситуация на рынке труда в России требует внимания как со стороны соискателей, так и работодателей, чтобы обеспечить эффективное взаимодействие и адаптацию к новым условиям.\\n'"
            ],
            "application/vnd.google.colaboratory.intrinsic+json": {
              "type": "string"
            }
          },
          "metadata": {},
          "execution_count": 44
        }
      ],
      "source": [
        "# подведем итог исследования, обобщите выводы\n",
        "# здесь можно (это будет плюсом) провести дополнительные исследования данных, сделать прогнозы, продумать варианты продолжения исследования\n",
        "'''\n",
        "# Выводы по результатам анализа данных о вакансиях\n",
        "\n",
        "## 1. Предварительный анализ данных\n",
        "- **Объем данных**: База данных включает 49,197 вакансий и 23,501 работодателя, охватывающих 1,362 региона.\n",
        "- **Вывод**: Обширная и разнообразная база данных создает возможности для глубокого анализа рынка труда в различных аспектах.\n",
        "\n",
        "## 2. Детальный анализ вакансий\n",
        "- **Географическое распределение**: Вакансии сосредоточены в крупных городах, таких как Москва и Санкт-Петербург. Более 49% вакансий имеют заполненные поля о зарплате, что позволяет проводить точный анализ зарплатных ожиданий.\n",
        "- **Вывод**: Рынок труда в России в значительной степени сконцентрирован в крупных городах, что создает вызовы для соискателей в менее населенных регионах. Высокий процент заполненных данных о зарплатах позволяет более точно оценивать рыночные условия.\n",
        "\n",
        "## 3. Анализ работодателей\n",
        "- **Лидеры рынка**: Яндекс занимает ведущую позицию по количеству вакансий, что указывает на высокий спрос на IT-специалистов. Присутствие большого числа работодателей с незаявленной сферой деятельности говорит о недостаточной прозрачности на рынке труда.\n",
        "- **Вывод**: IT-сектор демонстрирует устойчивый рост, однако недостаточная прозрачность информации о работодателях затрудняет поиск вакансий для соискателей.\n",
        "\n",
        "## 4. Предметный анализ\n",
        "- **Спрос на специалистов**: Вакансии в области данных показывают растущий интерес к специалистам, с увеличением средней зарплаты для дата-сайентистов по мере накопления опыта.\n",
        "- **Вывод**: Спрос на специалистов в области данных продолжает расти, открывая возможности для карьерного роста, но также увеличивает конкуренцию на рынке.\n",
        "\n",
        "## Общий вывод по всем вакансиям в базе данных\n",
        "Анализ вакансий показывает значительный спрос на IT-специалистов и специалистов в области данных. Вакансии сосредоточены в крупных городах, создавая неравномерность в доступности рабочих мест и проблемы для соискателей из менее населенных регионов.\n",
        "\n",
        "### Ключевые выводы:\n",
        "- **Популярные вакансии**: Наиболее востребованы позиции в IT и анализе данных, с акцентом на разработку ПО и дата-сайентистов.\n",
        "- **Региональные различия**: В крупных городах больше возможностей, в то время как в небольших городах вакансий значительно меньше.\n",
        "- **Перспективы для исследований**: Рекомендуется провести анализ зарплат по регионам, изучить влияние удаленной работы на рынок труда и оценить изменения в требованиях к навыкам в различных отраслях.\n",
        "\n",
        "## Прогнозы на будущее\n",
        "- **Рост удаленной работы**: Ожидается, что удаленная работа станет неотъемлемой частью рынка труда, что позволит компаниям расширять свои горизонты и находить таланты за пределами крупных городов.\n",
        "- **Увеличение инвестиций в обучение**: Компании начнут больше инвестировать в обучение и развитие своих сотрудников, чтобы соответствовать требованиям рынка.\n",
        "- **Развитие новых технологий**: С появлением новых технологий, таких как искусственный интеллект и машинное обучение, будет расти спрос на специалистов, обладающих соответствующими навыками.\n",
        "\n",
        "## Заключение\n",
        "Анализ вакансий свидетельствует о трансформации рынка труда в России, вызванной ростом цифровизации и изменением подходов к работе. Соискателям необходимо адаптироваться к новым условиям, а работодателям — улучшать условия труда и прозрачность вакансий, чтобы привлекать и удерживать талантливых специалистов. Прогнозы указывают на устойчивый рост спроса на IT-специалистов, открывая новые возможности для карьерного роста и развития в этой области.\n",
        "\n",
        "## Общий вывод по проекту\n",
        "В ходе анализа базы данных вакансий, содержащей 49,197 записей, мы пришли к нескольким важным выводам, которые помогают понять текущее состояние рынка труда и его тенденции.\n",
        "\n",
        "1. **Общее количество вакансий и их распределение**:\n",
        "   - Наиболее заметным является то, что на рынке труда присутствует значительное количество вакансий, что открывает множество возможностей для соискателей. Однако, как показал детальный анализ, вакансии сосредоточены преимущественно в крупных городах, таких как Москва, Санкт-Петербург и другие города-миллионники. Это создает неравномерность в доступности рабочих мест, что может стать проблемой для соискателей из менее населенных регионов.\n",
        "\n",
        "2. **Популярные вакансии**:\n",
        "   - Вакансии в области IT и разработки программного обеспечения, а также дата-сайентистов являются наиболее востребованными. Это подтверждается большим количеством предложений от таких компаний, как Яндекс и Газпром нефть. Важно отметить, что спрос на специалистов с навыками работы с данными продолжает расти, что связано с цифровизацией и необходимостью анализа больших объемов информации.\n",
        "\n",
        "3. **Рынок труда в различных городах**:\n",
        "   - Анализ показал, что в крупных городах наблюдается большее количество вакансий и более высокие зарплатные предложения. В то же время, в небольших городах и регионах возможности трудоустройства значительно ограничены. Это создает вызовы для соискателей, которые не могут переехать в крупные города, и подчеркивает необходимость развития удаленной работы.\n",
        "\n",
        "4. **Перспективы и возможности для исследований**:\n",
        "   - Мы можем провести дополнительные исследования, например, проанализировать динамику изменения зарплат по регионам, изучить влияние удаленной работы на рынок труда или оценить, как изменяются требования к навыкам в зависимости от отрасли. Также интересно было бы провести сравнительный анализ вакансий в различных секторах экономики, чтобы выявить, где наблюдается наибольший рост.\n",
        "\n",
        "5. **Прогнозы**:\n",
        "   - В ближайшие годы ожидается рост числа вакансий в сфере IT и анализа данных, что создаст дополнительные возможности для карьерного роста. Однако, с увеличением спроса на специалистов, конкуренция на рынке труда также возрастет. Соискателям важно активно развивать свои навыки и оставаться в курсе новых технологий, чтобы оставаться конкурентоспособными.\n",
        "\n",
        "Таким образом, текущая ситуация на рынке труда в России требует внимания как со стороны соискателей, так и работодателей, чтобы обеспечить эффективное взаимодействие и адаптацию к новым условиям.\n",
        "'''\n"
      ]
    }
  ],
  "metadata": {
    "colab": {
      "collapsed_sections": [
        "829cb75b-f14e-4ba8-9195-7ba929a7d656",
        "0dc6476b-7a00-44f1-ac93-6e3baed33a29"
      ],
      "provenance": []
    },
    "kernelspec": {
      "display_name": "Python 3 (ipykernel)",
      "language": "python",
      "name": "python3"
    },
    "language_info": {
      "codemirror_mode": {
        "name": "ipython",
        "version": 3
      },
      "file_extension": ".py",
      "mimetype": "text/x-python",
      "name": "python",
      "nbconvert_exporter": "python",
      "pygments_lexer": "ipython3",
      "version": "3.9.7"
    }
  },
  "nbformat": 4,
  "nbformat_minor": 5
}